{
 "cells": [
  {
   "cell_type": "code",
   "execution_count": 2,
   "id": "c3bd458a-0383-429d-8858-46997cac9cc8",
   "metadata": {},
   "outputs": [
    {
     "data": {
      "text/plain": [
       "'project testing'"
      ]
     },
     "execution_count": 2,
     "metadata": {},
     "output_type": "execute_result"
    }
   ],
   "source": [
    "string =\"project testing\"\n",
    "string"
   ]
  },
  {
   "cell_type": "code",
   "execution_count": 1,
   "id": "8e27f70e-d83d-4c81-af9c-58432476c549",
   "metadata": {},
   "outputs": [
    {
     "data": {
      "text/plain": [
       "'work is going on require time'"
      ]
     },
     "execution_count": 1,
     "metadata": {},
     "output_type": "execute_result"
    }
   ],
   "source": [
    "string = 'work is going on require time'\n",
    "string"
   ]
  },
  {
   "cell_type": "code",
   "execution_count": 2,
   "id": "8b17a941-6e06-49f7-8aa4-4c00ca429d03",
   "metadata": {},
   "outputs": [
    {
     "data": {
      "text/plain": [
       "11"
      ]
     },
     "execution_count": 2,
     "metadata": {},
     "output_type": "execute_result"
    }
   ],
   "source": [
    "5+6"
   ]
  },
  {
   "cell_type": "code",
   "execution_count": null,
   "id": "bc391811-456c-46a8-8455-71b0a7a05615",
   "metadata": {},
   "outputs": [],
   "source": []
  }
 ],
 "metadata": {
  "kernelspec": {
   "display_name": "Python 3 (ipykernel)",
   "language": "python",
   "name": "python3"
  },
  "language_info": {
   "codemirror_mode": {
    "name": "ipython",
    "version": 3
   },
   "file_extension": ".py",
   "mimetype": "text/x-python",
   "name": "python",
   "nbconvert_exporter": "python",
   "pygments_lexer": "ipython3",
   "version": "3.9.7"
  }
 },
 "nbformat": 4,
 "nbformat_minor": 5
}
